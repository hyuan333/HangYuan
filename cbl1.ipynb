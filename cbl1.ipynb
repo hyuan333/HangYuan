{
 "cells": [
  {
   "cell_type": "markdown",
   "metadata": {},
   "source": [
    "Model\n"
   ]
  },
  {
   "cell_type": "markdown",
   "metadata": {},
   "source": [
    "Agents\n"
   ]
  },
  {
   "cell_type": "markdown",
   "metadata": {},
   "source": [
    "define action"
   ]
  },
  {
   "cell_type": "markdown",
   "metadata": {},
   "source": [
    "define result"
   ]
  },
  {
   "cell_type": "markdown",
   "metadata": {},
   "source": [
    "define circumstance"
   ]
  },
  {
   "cell_type": "markdown",
   "metadata": {},
   "source": [
    "define bindwidth act similarity"
   ]
  },
  {
   "cell_type": "markdown",
   "metadata": {},
   "source": [
    "define CBU"
   ]
  },
  {
   "cell_type": "markdown",
   "metadata": {},
   "source": [
    "schedule"
   ]
  },
  {
   "cell_type": "markdown",
   "metadata": {},
   "source": [
    "Round 1:\n",
    "\n",
    "Agent1 randomly choose action (0,100), then agent2,..., agent6;\n",
    "\n",
    "Realized price = average action+ constant\n",
    "\n",
    "Calculate every agent's result.\n",
    "Add case1 to the memory\n",
    "\n",
    "\n"
   ]
  },
  {
   "cell_type": "markdown",
   "metadata": {},
   "source": [
    "Round 2:\n",
    "\n",
    "Agent1 choose action based on CBU, then agent2...\n",
    "\n",
    "realized price\n",
    "\n",
    "results\n",
    "\n",
    "Add case2 to memory"
   ]
  },
  {
   "cell_type": "code",
   "execution_count": null,
   "metadata": {},
   "outputs": [],
   "source": []
  }
 ],
 "metadata": {
  "kernelspec": {
   "display_name": "Python 3",
   "language": "python",
   "name": "python3"
  },
  "language_info": {
   "codemirror_mode": {
    "name": "ipython",
    "version": 3
   },
   "file_extension": ".py",
   "mimetype": "text/x-python",
   "name": "python",
   "nbconvert_exporter": "python",
   "pygments_lexer": "ipython3",
   "version": "3.7.4"
  }
 },
 "nbformat": 4,
 "nbformat_minor": 4
}
