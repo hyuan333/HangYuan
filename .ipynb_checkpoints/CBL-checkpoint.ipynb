{
 "cells": [
  {
   "cell_type": "code",
   "execution_count": 68,
   "metadata": {},
   "outputs": [],
   "source": [
    "from mesa import Agent, Model\n",
    "from mesa.time import RandomActivation\n",
    "from mesa.space import MultiGrid\n",
    "from mesa.datacollection import DataCollector\n",
    "from mesa.batchrunner import BatchRunner\n",
    "import random\n",
    "#%run genetic.ipynb\n",
    "import math, statistics\n",
    "import numpy as np\n"
   ]
  },
  {
   "cell_type": "code",
   "execution_count": 69,
   "metadata": {},
   "outputs": [],
   "source": [
    "class CaseAgent(Agent):\n",
    "    \"\"\"An agent with fixed initial wealth.\"\"\"\n",
    "    def __init__(self, unique_id, model):\n",
    "        super().__init__(unique_id, model)\n",
    "        self.wealth = 1\n",
    "\n",
    "\n",
    "    def step(self):\n",
    "        # The agent's step will go here.\n",
    "        # For demonstration purposes we will print the agent's unique_id\n",
    "        print (\"Hi, I am agent \" + str(self.unique_id) +\".\")\n",
    "    def print(self):\n",
    "        print( \"id:\", self.unique_id, \" wealth: \", self.wealth)\n",
    "        "
   ]
  },
  {
   "cell_type": "code",
   "execution_count": 70,
   "metadata": {
    "tags": []
   },
   "outputs": [],
   "source": [
    "\n",
    "class CaseModel(Model):\n",
    "    \"\"\"A model with some number of agents.\"\"\"\n",
    "    def __init__(self, N):\n",
    "        self.num_agents = 6\n",
    "        # Create agents\n",
    "        self.schedule = RadomActivation(self)\n",
    "        \n",
    "          # Create agents\n",
    "        for i in range(self.num_agents):\n",
    "            a = MoneyAgent(i, self)\n",
    "            self.schedule.add(a)\n",
    "        \n",
    "\n",
    "        self.agents=[] #ADP: have an agents vector directly in Model.\n",
    "        self.tick=0    #ADP: keep track of time.      \n",
    "            \n",
    "    \n",
    "    def step(self):\n",
    "        '''Advance the model by one step.'''\n",
    "        print( \"It is now time\", self.tick, \".\")\n",
    "        self.schedule.step()\n",
    "    \n",
    "        self.tick += 1 # ADP: iterate time.\n",
    "        \n",
    "    def print(self): \n",
    "        # ADP: Give every object a \"print\" function.\n",
    "        print( \"Time:\", self.tick, \".\")\n",
    "        for a in self.agents:\n",
    "            a.print()        \n"
   ]
  },
  {
   "cell_type": "code",
   "execution_count": 71,
   "metadata": {},
   "outputs": [],
   "source": [
    "def dist( p1, p2):\n",
    "    runner=0\n",
    "    if len(p1) == len(p2):\n",
    "        for i in range(len(p1)):\n",
    "            runner+= (p1[i]-p2[i])**2\n",
    "    return math.sqrt(runner)"
   ]
  },
  {
   "cell_type": "markdown",
   "metadata": {},
   "source": [
    "Try the \"markdown\""
   ]
  },
  {
   "cell_type": "markdown",
   "metadata": {},
   "source": [
    "Ok, now move to CBL setup"
   ]
  },
  {
   "cell_type": "code",
   "execution_count": 76,
   "metadata": {},
   "outputs": [],
   "source": [
    "m=CaseModel\n"
   ]
  },
  {
   "cell_type": "code",
   "execution_count": 77,
   "metadata": {},
   "outputs": [
    {
     "ename": "TypeError",
     "evalue": "step() missing 1 required positional argument: 'self'",
     "output_type": "error",
     "traceback": [
      "\u001b[1;31m---------------------------------------------------------------------------\u001b[0m",
      "\u001b[1;31mTypeError\u001b[0m                                 Traceback (most recent call last)",
      "\u001b[1;32m<ipython-input-77-7ad4d2626ecf>\u001b[0m in \u001b[0;36m<module>\u001b[1;34m\u001b[0m\n\u001b[1;32m----> 1\u001b[1;33m \u001b[0mm\u001b[0m\u001b[1;33m.\u001b[0m\u001b[0mstep\u001b[0m\u001b[1;33m(\u001b[0m\u001b[1;33m)\u001b[0m\u001b[1;33m\u001b[0m\u001b[1;33m\u001b[0m\u001b[0m\n\u001b[0m",
      "\u001b[1;31mTypeError\u001b[0m: step() missing 1 required positional argument: 'self'"
     ]
    }
   ],
   "source": [
    "m.step()"
   ]
  },
  {
   "cell_type": "code",
   "execution_count": 85,
   "metadata": {},
   "outputs": [],
   "source": [
    "class MoneyAgent(Agent):\n",
    "    \"\"\" An agent with fixed initial wealth.\"\"\"\n",
    "    def __init__(self, unique_id, model):\n",
    "        super().__init__(unique_id, model)\n",
    "        self.wealth = 1\n",
    "        self.action=[]\n",
    "        \n",
    "    def step(self):\n",
    "        if self.wealth == 0:\n",
    "            return\n",
    "        other_agent = self.random.choice(self.model.agents) \n",
    "        other_agent.wealth += 1\n",
    "        self.wealth -= 1\n",
    "        \n",
    "        \n",
    "    def print(self):\n",
    "        print( \"id:\", self.unique_id, \" wealth: \", self.wealth,\" prediction: \", self.action)"
   ]
  },
  {
   "cell_type": "code",
   "execution_count": 86,
   "metadata": {},
   "outputs": [],
   "source": [
    "class MoneyModel(Model):\n",
    "    \"\"\"A model with some number of agents.\"\"\"\n",
    "    def __init__(self, N=4):\n",
    "        self.num_agents = N\n",
    "        self.schedule = RandomActivation(self)\n",
    "        \n",
    "        self.agents=[]\n",
    "        self.tick=0\n",
    "        \n",
    "        # Create agents\n",
    "        for i in range(self.num_agents):\n",
    "            a = MoneyAgent(i, self)\n",
    "            self.schedule.add(a)\n",
    "            self.agents.append(a)\n",
    "\n",
    "    def step(self):\n",
    "        '''Advance the model by one step.'''\n",
    "  \n",
    "        self.schedule.step()\n",
    "        self.tick += 1\n",
    "        \n",
    "    def print(self):\n",
    "        print( \"Time:\", self.tick, \".\")\n",
    "        for a in self.agents:\n",
    "            a.print()"
   ]
  },
  {
   "cell_type": "code",
   "execution_count": 87,
   "metadata": {},
   "outputs": [],
   "source": [
    "m=MoneyModel()"
   ]
  },
  {
   "cell_type": "code",
   "execution_count": 88,
   "metadata": {},
   "outputs": [
    {
     "name": "stdout",
     "output_type": "stream",
     "text": [
      "Time: 0 .\n",
      "id: 0  wealth:  1  prediction:  []\n",
      "id: 1  wealth:  1  prediction:  []\n",
      "id: 2  wealth:  1  prediction:  []\n",
      "id: 3  wealth:  1  prediction:  []\n"
     ]
    }
   ],
   "source": [
    "m.print()"
   ]
  },
  {
   "cell_type": "code",
   "execution_count": 89,
   "metadata": {},
   "outputs": [],
   "source": [
    "m.step()"
   ]
  },
  {
   "cell_type": "code",
   "execution_count": 90,
   "metadata": {},
   "outputs": [
    {
     "name": "stdout",
     "output_type": "stream",
     "text": [
      "Time: 1 .\n",
      "id: 0  wealth:  1  prediction:  []\n",
      "id: 1  wealth:  0  prediction:  []\n",
      "id: 2  wealth:  1  prediction:  []\n",
      "id: 3  wealth:  2  prediction:  []\n"
     ]
    }
   ],
   "source": [
    "m.print()"
   ]
  },
  {
   "cell_type": "code",
   "execution_count": 92,
   "metadata": {},
   "outputs": [],
   "source": [
    "model = MoneyModel(10)\n",
    "for i in range(10):\n",
    "    model.step()"
   ]
  },
  {
   "cell_type": "code",
   "execution_count": 93,
   "metadata": {},
   "outputs": [
    {
     "data": {
      "image/png": "[encoded data removed]",
      "text/plain": [
       "<Figure size 432x288 with 1 Axes>"
      ]
     },
     "metadata": {
      "needs_background": "light"
     },
     "output_type": "display_data"
    }
   ],
   "source": [
    "import matplotlib.pyplot as plt\n",
    "\n",
    "# For jupyter notebook add the following line:\n",
    "%matplotlib inline\n",
    "\n",
    "agent_wealth = [a.wealth for a in model.agents]\n",
    "plt.hist(agent_wealth)\n",
    "#For a script add the following line\n",
    "plt.show()"
   ]
  },
  {
   "cell_type": "code",
   "execution_count": 97,
   "metadata": {},
   "outputs": [],
   "source": [
    "class GeneCase():\n",
    "    def __init__(self,time=0,info=None,result=0):\n",
    "        self.info=info\n",
    "        self.time = time\n",
    "        self.result=result\n",
    "        self.pastprice=[]\n",
    "        self.action\n",
    "        \n",
    "    def print(self):\n",
    "        print(\"< i:\",self.info,\" , t:\", self.time, \" , r:\", self.result)\n",
    "        \n",
    "    def string(self):\n",
    "        return \"< i:\" + str(self.info) + \" , t:\" + str(self.time) + \" , r:\" + str(self.result)"
   ]
  },
  {
   "cell_type": "code",
   "execution_count": 100,
   "metadata": {},
   "outputs": [],
   "source": [
    "class GeneMemory(list):\n",
    "    def __init__(self, contents=None,owner=None, default_value=None, max_length=100):\n",
    "        \n",
    "        #you can start a memory with contents if you want:\n",
    "        #if contents is not None:\n",
    "            #super().__init__(contents)\n",
    "       #else:\n",
    "        super().__init__()\n",
    "        \n",
    "        \n",
    "        self.default_value=default_value\n",
    "        \n",
    "        self.owner=owner\n",
    "        \n",
    "        self.max_length=max_length"
   ]
  },
  {
   "cell_type": "code",
   "execution_count": 101,
   "metadata": {},
   "outputs": [
    {
     "ename": "SyntaxError",
     "evalue": "invalid syntax (<ipython-input-101-b41743ae9f20>, line 1)",
     "output_type": "error",
     "traceback": [
      "\u001b[1;36m  File \u001b[1;32m\"<ipython-input-101-b41743ae9f20>\"\u001b[1;36m, line \u001b[1;32m1\u001b[0m\n\u001b[1;33m    class CBU()\u001b[0m\n\u001b[1;37m               ^\u001b[0m\n\u001b[1;31mSyntaxError\u001b[0m\u001b[1;31m:\u001b[0m invalid syntax\n"
     ]
    }
   ],
   "source": [
    "class CBU():\n",
    "    def __init__(self, self.value):"
   ]
  },
  {
   "cell_type": "code",
   "execution_count": null,
   "metadata": {},
   "outputs": [],
   "source": []
  }
 ],
 "metadata": {
  "kernelspec": {
   "display_name": "Python 3",
   "language": "python",
   "name": "python3"
  },
  "language_info": {
   "codemirror_mode": {
    "name": "ipython",
    "version": 3
   },
   "file_extension": ".py",
   "mimetype": "text/x-python",
   "name": "python",
   "nbconvert_exporter": "python",
   "pygments_lexer": "ipython3",
   "version": "3.7.4"
  }
 },
 "nbformat": 4,
 "nbformat_minor": 4
}
